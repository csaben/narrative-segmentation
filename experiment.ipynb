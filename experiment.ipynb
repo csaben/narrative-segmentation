{
 "cells": [
  {
   "cell_type": "code",
   "execution_count": 24,
   "metadata": {},
   "outputs": [
    {
     "ename": "ImportError",
     "evalue": "cannot import name 'Naive' from 'narrative_segmentation.narrative_segmentation.segmenters.naive' (/home/arelius/workspace/narrative-segmentation/src/narrative_segmentation/narrative_segmentation/segmenters/naive.py)",
     "output_type": "error",
     "traceback": [
      "\u001b[0;31m---------------------------------------------------------------------------\u001b[0m",
      "\u001b[0;31mImportError\u001b[0m                               Traceback (most recent call last)",
      "Cell \u001b[0;32mIn[24], line 1\u001b[0m\n\u001b[0;32m----> 1\u001b[0m \u001b[38;5;28;01mfrom\u001b[39;00m \u001b[38;5;21;01mnarrative_segmentation\u001b[39;00m\u001b[38;5;21;01m.\u001b[39;00m\u001b[38;5;21;01mnarrative_segmentation\u001b[39;00m\u001b[38;5;21;01m.\u001b[39;00m\u001b[38;5;21;01msegmenters\u001b[39;00m\u001b[38;5;21;01m.\u001b[39;00m\u001b[38;5;21;01mnaive\u001b[39;00m \u001b[38;5;28;01mimport\u001b[39;00m Naive\n\u001b[1;32m      2\u001b[0m \u001b[38;5;28;01mfrom\u001b[39;00m \u001b[38;5;21;01mnarrative_segmentation\u001b[39;00m\u001b[38;5;21;01m.\u001b[39;00m\u001b[38;5;21;01mnarrative_segmentation\u001b[39;00m\u001b[38;5;21;01m.\u001b[39;00m\u001b[38;5;21;01mapi\u001b[39;00m \u001b[38;5;28;01mimport\u001b[39;00m text_to_segments\n",
      "\u001b[0;31mImportError\u001b[0m: cannot import name 'Naive' from 'narrative_segmentation.narrative_segmentation.segmenters.naive' (/home/arelius/workspace/narrative-segmentation/src/narrative_segmentation/narrative_segmentation/segmenters/naive.py)"
     ]
    }
   ],
   "source": [
    "from narrative_segmentation.narrative_segmentation.segmenters.naive import NaiveSegmenter\n",
    "from narrative_segmentation.narrative_segmentation.api import text_to_segments"
   ]
  },
  {
   "cell_type": "code",
   "execution_count": null,
   "metadata": {},
   "outputs": [],
   "source": [
    "text = \"hello there world. i am clark. i like turtles.\"\n",
    "text_to_segments(Naive, )"
   ]
  }
 ],
 "metadata": {
  "kernelspec": {
   "display_name": "narrative-segmentation",
   "language": "python",
   "name": "python3"
  },
  "language_info": {
   "codemirror_mode": {
    "name": "ipython",
    "version": 3
   },
   "file_extension": ".py",
   "mimetype": "text/x-python",
   "name": "python",
   "nbconvert_exporter": "python",
   "pygments_lexer": "ipython3",
   "version": "3.11.10"
  }
 },
 "nbformat": 4,
 "nbformat_minor": 2
}
